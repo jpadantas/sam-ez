{
 "cells": [
  {
   "cell_type": "markdown",
   "metadata": {},
   "source": [
    "# Exploratory Data Analysis"
   ]
  },
  {
   "cell_type": "code",
   "execution_count": 13,
   "metadata": {
    "tags": []
   },
   "outputs": [],
   "source": [
    "import pandas as pd\n",
    "import os\n",
    "import numpy as np\n",
    "import matplotlib.pyplot as plt\n",
    "import seaborn as sns"
   ]
  },
  {
   "cell_type": "code",
   "execution_count": 19,
   "metadata": {},
   "outputs": [],
   "source": [
    "# Two potential options include: '9M96E2' and '48N6ES'.\n",
    "missile = '9M96E2'\n",
    "folder_path = f'../data/{missile}'"
   ]
  },
  {
   "cell_type": "code",
   "execution_count": 20,
   "metadata": {},
   "outputs": [],
   "source": [
    "# list comprehension to build a list of dataframes\n",
    "# Remove the values with max_range = -1\n",
    "for f in os.listdir(folder_path + '/raw'):\n",
    "    if f.endswith('.csv'):\n",
    "        df = pd.read_csv(os.path.join(folder_path + '/raw', f), header=None, sep=';', names=['sht_alt_ft','sht_spd_kt', 'tgt_alt_ft', 'tgt_spd_kt', 'tgt_head_deg', 'tgt_rel_head_deg', 'max_range'])\n",
    "        df = df[df['max_range'] != -1]\n",
    "        df.drop(['sht_alt_ft','sht_spd_kt','tgt_rel_head_deg'], axis=1, inplace=True)\n",
    "        df.to_csv(os.path.join(folder_path, f), index=False)\n",
    "\n",
    "dfs = [pd.read_csv(os.path.join(folder_path, f)) for f in os.listdir(folder_path) if f.endswith('.csv')]\n",
    "\n",
    "# concatenate them together\n",
    "df_0_180 = pd.concat(dfs).reset_index(drop=True)\n",
    "df_0_180.to_csv(os.path.join(folder_path, 'wez_exp_out_0_180.csv'), index=False)"
   ]
  },
  {
   "cell_type": "markdown",
   "metadata": {},
   "source": [
    "### Descriptive Statistics"
   ]
  },
  {
   "cell_type": "code",
   "execution_count": 21,
   "metadata": {},
   "outputs": [
    {
     "data": {
      "text/html": [
       "<div>\n",
       "<style scoped>\n",
       "    .dataframe tbody tr th:only-of-type {\n",
       "        vertical-align: middle;\n",
       "    }\n",
       "\n",
       "    .dataframe tbody tr th {\n",
       "        vertical-align: top;\n",
       "    }\n",
       "\n",
       "    .dataframe thead th {\n",
       "        text-align: right;\n",
       "    }\n",
       "</style>\n",
       "<table border=\"1\" class=\"dataframe\">\n",
       "  <thead>\n",
       "    <tr style=\"text-align: right;\">\n",
       "      <th></th>\n",
       "      <th>tgt_alt_ft</th>\n",
       "      <th>tgt_spd_kt</th>\n",
       "      <th>tgt_head_deg</th>\n",
       "      <th>max_range</th>\n",
       "    </tr>\n",
       "  </thead>\n",
       "  <tbody>\n",
       "    <tr>\n",
       "      <th>0</th>\n",
       "      <td>31028.350189</td>\n",
       "      <td>809.229039</td>\n",
       "      <td>163.174801</td>\n",
       "      <td>22.265625</td>\n",
       "    </tr>\n",
       "    <tr>\n",
       "      <th>1</th>\n",
       "      <td>19722.491907</td>\n",
       "      <td>349.177436</td>\n",
       "      <td>170.565087</td>\n",
       "      <td>22.578125</td>\n",
       "    </tr>\n",
       "    <tr>\n",
       "      <th>2</th>\n",
       "      <td>24106.093924</td>\n",
       "      <td>745.832481</td>\n",
       "      <td>167.281644</td>\n",
       "      <td>52.890625</td>\n",
       "    </tr>\n",
       "    <tr>\n",
       "      <th>3</th>\n",
       "      <td>18945.895824</td>\n",
       "      <td>750.339315</td>\n",
       "      <td>169.380513</td>\n",
       "      <td>53.984375</td>\n",
       "    </tr>\n",
       "    <tr>\n",
       "      <th>4</th>\n",
       "      <td>43491.099137</td>\n",
       "      <td>760.142035</td>\n",
       "      <td>170.147129</td>\n",
       "      <td>21.640625</td>\n",
       "    </tr>\n",
       "    <tr>\n",
       "      <th>...</th>\n",
       "      <td>...</td>\n",
       "      <td>...</td>\n",
       "      <td>...</td>\n",
       "      <td>...</td>\n",
       "    </tr>\n",
       "    <tr>\n",
       "      <th>24775</th>\n",
       "      <td>1289.559106</td>\n",
       "      <td>803.955570</td>\n",
       "      <td>149.274622</td>\n",
       "      <td>10.234375</td>\n",
       "    </tr>\n",
       "    <tr>\n",
       "      <th>24776</th>\n",
       "      <td>24754.679367</td>\n",
       "      <td>304.804265</td>\n",
       "      <td>152.857542</td>\n",
       "      <td>16.015625</td>\n",
       "    </tr>\n",
       "    <tr>\n",
       "      <th>24777</th>\n",
       "      <td>803.363070</td>\n",
       "      <td>691.984525</td>\n",
       "      <td>150.840015</td>\n",
       "      <td>12.109375</td>\n",
       "    </tr>\n",
       "    <tr>\n",
       "      <th>24778</th>\n",
       "      <td>-2986.909157</td>\n",
       "      <td>451.893418</td>\n",
       "      <td>151.041145</td>\n",
       "      <td>17.890625</td>\n",
       "    </tr>\n",
       "    <tr>\n",
       "      <th>24779</th>\n",
       "      <td>30783.859999</td>\n",
       "      <td>789.128519</td>\n",
       "      <td>148.243235</td>\n",
       "      <td>13.515625</td>\n",
       "    </tr>\n",
       "  </tbody>\n",
       "</table>\n",
       "<p>24780 rows × 4 columns</p>\n",
       "</div>"
      ],
      "text/plain": [
       "         tgt_alt_ft  tgt_spd_kt  tgt_head_deg  max_range\n",
       "0      31028.350189  809.229039    163.174801  22.265625\n",
       "1      19722.491907  349.177436    170.565087  22.578125\n",
       "2      24106.093924  745.832481    167.281644  52.890625\n",
       "3      18945.895824  750.339315    169.380513  53.984375\n",
       "4      43491.099137  760.142035    170.147129  21.640625\n",
       "...             ...         ...           ...        ...\n",
       "24775   1289.559106  803.955570    149.274622  10.234375\n",
       "24776  24754.679367  304.804265    152.857542  16.015625\n",
       "24777    803.363070  691.984525    150.840015  12.109375\n",
       "24778  -2986.909157  451.893418    151.041145  17.890625\n",
       "24779  30783.859999  789.128519    148.243235  13.515625\n",
       "\n",
       "[24780 rows x 4 columns]"
      ]
     },
     "execution_count": 21,
     "metadata": {},
     "output_type": "execute_result"
    }
   ],
   "source": [
    "df_0_180"
   ]
  },
  {
   "cell_type": "markdown",
   "metadata": {},
   "source": [
    "### Histograms and Boxplot"
   ]
  },
  {
   "cell_type": "code",
   "execution_count": 22,
   "metadata": {},
   "outputs": [
    {
     "data": {
      "image/png": "[encoded data removed]",
      "text/plain": [
       "<Figure size 432x288 with 2 Axes>"
      ]
     },
     "metadata": {},
     "output_type": "display_data"
    }
   ],
   "source": [
    "sns.set(style=\"whitegrid\")\n",
    "f, (ax_box, ax_hist) = plt.subplots(2, sharex=True, gridspec_kw={\"height_ratios\": (.15, .85)})\n",
    " \n",
    "# assigning a graph to each ax\n",
    "sns.boxplot(x=df_0_180[\"max_range\"], ax=ax_box, color='gray')\n",
    "sns.histplot(data=df_0_180, x=\"max_range\", ax=ax_hist, kde=True, color='gray', bins=20)\n",
    "plt.xlabel('Max Range (NM)')\n",
    "plt.ylabel('')\n",
    "sns.color_palette(\"flare\", as_cmap=True)\n",
    "plt.ticklabel_format(style='plain', axis='y')\n",
    "plt.tight_layout()\n",
    "\n",
    "# Remove x axis name for the boxplot\n",
    "ax_box.set(xlabel='')\n",
    "\n",
    "plt.show()\n",
    "#plt.savefig ('figures/histbox_eps.eps', format ='eps')\n",
    "# plt.savefig ('figures/histbox_400dpi.png', format ='png', dpi=400)"
   ]
  },
  {
   "cell_type": "markdown",
   "metadata": {},
   "source": [
    "### Correlation"
   ]
  },
  {
   "cell_type": "code",
   "execution_count": 23,
   "metadata": {},
   "outputs": [
    {
     "data": {
      "image/png": "[encoded data removed]",
      "text/plain": [
       "<Figure size 864x720 with 2 Axes>"
      ]
     },
     "metadata": {},
     "output_type": "display_data"
    }
   ],
   "source": [
    "plt.rcParams.update({'font.size': 9})\n",
    "\n",
    "corr_pearson = df_0_180.corr(method='pearson').round(4)\n",
    "\n",
    "# Generate a mask for the upper triangle\n",
    "mask = np.triu(np.ones_like(corr_pearson, dtype=bool))\n",
    "\n",
    "# Set up the matplotlib figure\n",
    "f, ax = plt.subplots(figsize=(12, 10))\n",
    "\n",
    "# Generate a custom diverging colormap\n",
    "cmap = sns.diverging_palette(240, 20, as_cmap=True)\n",
    "\n",
    "# Draw the heatmap with the mask and correct aspect ratio\n",
    "g = sns.heatmap(corr_pearson, cmap=cmap, center=0, square=True, linewidths=.5, cbar_kws={\"shrink\": 1.0}, annot=True);\n",
    "#g = sns.heatmap(corr_pearson, cmap=cmap, vmax=1.0, vmin =-1.0, center=0, square=True, linewidths=.5, cbar_kws={\"shrink\": 1.0}, annot=True);\n",
    "#g = sns.heatmap(corr_pearson, mask=mask, cmap=cmap, vmax=.3, center=0, square=True, linewidths=.5, cbar_kws={\"shrink\": .5}, annot=True);\n",
    "\n",
    "# This sets the yticks \"upright\" with 0, as opposed to sideways with 90.\n",
    "plt.xticks(rotation=90)\n",
    "plt.yticks(rotation=0) \n",
    "\n",
    "plt.show()\n",
    "#plt.savefig ('figures/corr_eps.eps', format ='eps')\n",
    "# plt.savefig ('figures/corr_png400.png', format ='png', dpi=400)"
   ]
  },
  {
   "cell_type": "markdown",
   "metadata": {},
   "source": [
    "### Outliers"
   ]
  },
  {
   "cell_type": "code",
   "execution_count": 24,
   "metadata": {},
   "outputs": [
    {
     "data": {
      "text/html": [
       "<div>\n",
       "<style scoped>\n",
       "    .dataframe tbody tr th:only-of-type {\n",
       "        vertical-align: middle;\n",
       "    }\n",
       "\n",
       "    .dataframe tbody tr th {\n",
       "        vertical-align: top;\n",
       "    }\n",
       "\n",
       "    .dataframe thead th {\n",
       "        text-align: right;\n",
       "    }\n",
       "</style>\n",
       "<table border=\"1\" class=\"dataframe\">\n",
       "  <thead>\n",
       "    <tr style=\"text-align: right;\">\n",
       "      <th></th>\n",
       "      <th>tgt_alt_ft</th>\n",
       "      <th>tgt_spd_kt</th>\n",
       "      <th>tgt_head_deg</th>\n",
       "      <th>max_range</th>\n",
       "    </tr>\n",
       "  </thead>\n",
       "  <tbody>\n",
       "  </tbody>\n",
       "</table>\n",
       "</div>"
      ],
      "text/plain": [
       "Empty DataFrame\n",
       "Columns: [tgt_alt_ft, tgt_spd_kt, tgt_head_deg, max_range]\n",
       "Index: []"
      ]
     },
     "execution_count": 24,
     "metadata": {},
     "output_type": "execute_result"
    }
   ],
   "source": [
    "df_0_180[df_0_180['max_range'] == -1]"
   ]
  },
  {
   "cell_type": "code",
   "execution_count": 25,
   "metadata": {},
   "outputs": [
    {
     "name": "stdout",
     "output_type": "stream",
     "text": [
      "Variable (1): tgt_alt_ft\n",
      "Percentiles: 25th = 7837.053, 75th = 32610.411, IQR = 24773.359\n",
      "Identified outliers: 0\n",
      "Non-outlier observations: 24780\n",
      "\n",
      "Variable (2): tgt_spd_kt\n",
      "Percentiles: 25th = 361.107, 75th = 685.249, IQR = 324.143\n",
      "Identified outliers: 0\n",
      "Non-outlier observations: 24780\n",
      "\n",
      "Variable (3): tgt_head_deg\n",
      "Percentiles: 25th = 146.548, 75th = 168.848, IQR = 22.300\n",
      "Identified outliers: 3709\n",
      "Non-outlier observations: 21071\n",
      "\n",
      "Variable (4): max_range\n",
      "Percentiles: 25th = 13.672, 75th = 28.047, IQR = 14.375\n",
      "Identified outliers: 1597\n",
      "Non-outlier observations: 23183\n",
      "\n"
     ]
    }
   ],
   "source": [
    "from numpy import percentile\n",
    "\n",
    "outliers_cols = df_0_180.columns\n",
    "outliers = {}\n",
    "outliers_removed = {}\n",
    "for idx, col in enumerate(outliers_cols):\n",
    "    # calculate interquartile range\n",
    "    data = df_0_180[col]\n",
    "    q25, q75 = percentile(data, 25), percentile(data, 75)\n",
    "    iqr = q75 - q25\n",
    "    print(f'Variable ({idx+1}): {col}\\nPercentiles: 25th = {q25:.3f}, 75th = { q75:.3f}, IQR = {iqr:.3f}')\n",
    "    # calculate the outlier cutoff\n",
    "    k = 1.5\n",
    "    cut_off = iqr * k\n",
    "    lower, upper = q25 - cut_off, q75 + cut_off\n",
    "    # identify outliers\n",
    "    outliers[col] = [x for x in data if x < lower or x > upper]\n",
    "    print(f'Identified outliers: {len(outliers[col])}')\n",
    "    # remove outliers\n",
    "    outliers_removed[col] = [x for x in data if x >= lower and x <= upper]\n",
    "    print(f'Non-outlier observations: {len(outliers_removed[col])}\\n')"
   ]
  }
 ],
 "metadata": {
  "kernelspec": {
   "display_name": "Python 3 (ipykernel)",
   "language": "python",
   "name": "python3"
  },
  "language_info": {
   "codemirror_mode": {
    "name": "ipython",
    "version": 3
   },
   "file_extension": ".py",
   "mimetype": "text/x-python",
   "name": "python",
   "nbconvert_exporter": "python",
   "pygments_lexer": "ipython3",
   "version": "3.9.10"
  }
 },
 "nbformat": 4,
 "nbformat_minor": 4
}
